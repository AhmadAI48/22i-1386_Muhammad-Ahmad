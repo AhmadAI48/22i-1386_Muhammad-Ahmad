{
  "nbformat": 4,
  "nbformat_minor": 0,
  "metadata": {
    "colab": {
      "provenance": []
    },
    "kernelspec": {
      "name": "python3",
      "display_name": "Python 3"
    },
    "language_info": {
      "name": "python"
    }
  },
  "cells": [
    {
      "cell_type": "markdown",
      "source": [
        "# Lab Task 01"
      ],
      "metadata": {
        "id": "DR3RvooloecS"
      }
    },
    {
      "cell_type": "markdown",
      "source": [
        "Reshape a 1D NumPy array into a 2D array with dimensions (3, 4).\n",
        "\n",
        "Concatenate two NumPy arrays horizontally and vertically."
      ],
      "metadata": {
        "id": "Oi-yFvItoWzc"
      }
    },
    {
      "cell_type": "code",
      "source": [
        "#code here\n",
        "import numpy as np\n",
        "\n",
        "array = np.array([1, 2, 3, 4, 5, 6, 7, 8, 9, 10, 11, 12])\n",
        "reshapedarray = array.reshape(3, 4)\n",
        "\n",
        "print(\"Original 1D array:,array\\n\",array)\n",
        "print(\"\\nReshaped 2D array:\\n\",reshapedarray)\n",
        "\n",
        "\n",
        "array1 = np.array([[1, 2, 3]])\n",
        "array2 = np.array([[4 ,5 , 6]])\n",
        "\n",
        "concatenated_horizontal = np.concatenate((array1, array2), axis=1)\n",
        "concatenated_vertical = np.concatenate((array1, array2), axis=0)\n",
        "\n",
        "print(\"\\nConcatenated Horizontally:\\n\",concatenated_horizontal)\n",
        "print(\"\\nConcatenated Vertically:\\n\",concatenated_vertical)\n",
        "\n"
      ],
      "metadata": {
        "id": "c379PMYOobDK",
        "outputId": "cda03e7a-5c31-459f-c67b-a5fea5b220b5",
        "colab": {
          "base_uri": "https://localhost:8080/"
        }
      },
      "execution_count": 5,
      "outputs": [
        {
          "output_type": "stream",
          "name": "stdout",
          "text": [
            "Original 1D array:,array\n",
            " [ 1  2  3  4  5  6  7  8  9 10 11 12]\n",
            "\n",
            "Reshaped 2D array:\n",
            " [[ 1  2  3  4]\n",
            " [ 5  6  7  8]\n",
            " [ 9 10 11 12]]\n",
            "\n",
            "Concatenated Horizontally:\n",
            " [[1 2 3 4 5 6]]\n",
            "\n",
            "Concatenated Vertically:\n",
            " [[1 2 3]\n",
            " [4 5 6]]\n"
          ]
        }
      ]
    },
    {
      "cell_type": "markdown",
      "source": [
        "# Lab Task 02"
      ],
      "metadata": {
        "id": "Dv9DtQ3jp6mq"
      }
    },
    {
      "cell_type": "markdown",
      "source": [
        "\n",
        "## Email Classification\n",
        "Develope a tool which will classify an email.\n",
        "\n",
        "### Tasks:\n",
        "* Create a function classify_emails that takes a list of emails as an argument.\n",
        "* Inside the function, categorize emails into \"Important,\" \"Promotions,\" and \"Spam\" based on keywords and content analysis.\n",
        "* Loop through the emails and identify keywords to determine their category.\n",
        "* If an email contains keywords indicating importance, assign it as \"Important.\"\n",
        "* If an email contains keywords related to promotions or deals, assign it as \"Promotions.\"\n",
        "* If an email is suspected to be spam based on certain keywords or patterns, assign it as \"Spam.\"\n",
        "* Return three lists of emails for each category.\n",
        "* Print the lists."
      ],
      "metadata": {
        "id": "2i6-zm_1ZAdn"
      }
    },
    {
      "cell_type": "code",
      "source": [
        "#code here\n",
        "def classify_emails(emails):\n",
        "    important_keywords = ['urgent', 'important', 'action required']\n",
        "    promotions_keywords = ['deal', 'discount', 'promotion']\n",
        "    spam_keywords = ['win', 'lottery', 'free', 'click now']\n",
        "\n",
        "    important_emails = []\n",
        "    promotions_emails = []\n",
        "    spam_emails = []\n",
        "\n",
        "    for email in emails:\n",
        "        lowercase_email = email.lower()\n",
        "\n",
        "        if any(keyword in lowercase_email for keyword in important_keywords):\n",
        "            important_emails.append(email)\n",
        "        elif any(keyword in lowercase_email for keyword in promotions_keywords):\n",
        "            promotions_emails.append(email)\n",
        "        elif any(keyword in lowercase_email for keyword in spam_keywords):\n",
        "            spam_emails.append(email)\n",
        "\n",
        "    return important_emails, promotions_emails, spam_emails\n",
        "\n",
        "\n",
        "emails_to_classify = [\n",
        "    \"Urgent: Please review your account.\",\n",
        "    \"Special Deal Inside - Limited Time Offer!\",\n",
        "    \"Congratulations! You've won a prize.\",\n",
        "    \"Meeting tomorrow at 3 PM.\",\n",
        "    \"Get a 20% discount on your next purchase.\",\n",
        "    \"Important: Action Required for Your Account.\",\n",
        "    \"CongrCongratulations! you just win 50 tola gold. Click Now.\"\n",
        "]\n",
        "\n",
        "important, promotions, spam = classify_emails(emails_to_classify)\n",
        "\n",
        "print(\"Important Emails:\\n\",important)\n",
        "print(\"\\nPromotions Emails:\\n\",promotions)\n",
        "print(\"\\nSpam Emails:\\n\",spam)\n",
        "\n",
        "\n"
      ],
      "metadata": {
        "id": "SnCGPkq-o84Z",
        "outputId": "f3acc75c-d81e-4cf8-d23a-08bc7e8e268e",
        "colab": {
          "base_uri": "https://localhost:8080/"
        }
      },
      "execution_count": 11,
      "outputs": [
        {
          "output_type": "stream",
          "name": "stdout",
          "text": [
            "Important Emails:\n",
            " ['Urgent: Please review your account.', 'Important: Action Required for Your Account.']\n",
            "\n",
            "Promotions Emails:\n",
            " ['Special Deal Inside - Limited Time Offer!', 'Get a 20% discount on your next purchase.']\n",
            "\n",
            "Spam Emails:\n",
            " ['CongrCongratulations! you just win 50 tola gold. Click Now.']\n"
          ]
        }
      ]
    },
    {
      "cell_type": "markdown",
      "source": [
        "# Lab Task 03"
      ],
      "metadata": {
        "id": "amtV-GLWpCC7"
      }
    },
    {
      "cell_type": "markdown",
      "source": [
        "## English-Spanish Dictionary\n",
        "You are creating a basic English-Spanish dictionary that allows users to look up English words and find their Spanish translations.\n",
        "\n",
        "\n",
        "### Tasks\n",
        "* Create a dictionary where English words are keys and their Spanish translations are values.\n",
        "* Ask the user to input an English word.\n",
        "* Check if the word exists in the dictionary.\n",
        "* If the word exists, print its Spanish translation.\n",
        "* If the word does not exist, inform the user that the translation is not available.\n",
        "* Implement a loop that allows the user to keep looking up words until they choose to exit.\n"
      ],
      "metadata": {
        "id": "M2Zg-XsUpC72"
      }
    },
    {
      "cell_type": "code",
      "source": [
        "#code here\n",
        "\n",
        "english_spanish_dict = {\n",
        "    'hello': 'hola',\n",
        "    'world': 'mundo',\n",
        "    'cat': 'gato',\n",
        "    'dog': 'perro',\n",
        "    'thank you': 'gracias',\n",
        "    'goodbye': 'adiós',\n",
        "    'friend': 'amigo',\n",
        "    'house': 'casa',\n",
        "    'computer': 'computadora',\n",
        "    'book': 'libro'\n",
        "}\n",
        "\n",
        "def translation():\n",
        "    while True:\n",
        "        user_input = input(\"Enter an English word (type 'exit' to quit): \").lower()\n",
        "\n",
        "        if user_input == 'exit':\n",
        "            print(\"Exiting the dictionary. Goodbye!\")\n",
        "            break\n",
        "\n",
        "        if user_input in english_spanish_dict:\n",
        "            print(f\"The Spanish translation of '{user_input}' is: {english_spanish_dict[user_input]}\")\n",
        "        else:\n",
        "            print(f\"Translation not available for '{user_input}'. Please try another word.\")\n",
        "\n",
        "\n",
        "translation()\n"
      ],
      "metadata": {
        "id": "7RKtYbMZpJdh",
        "outputId": "767ca1f2-9bd1-4109-fdff-0255a212075b",
        "colab": {
          "base_uri": "https://localhost:8080/"
        }
      },
      "execution_count": 12,
      "outputs": [
        {
          "output_type": "stream",
          "name": "stdout",
          "text": [
            "Enter an English word (type 'exit' to quit): hello\n",
            "The Spanish translation of 'hello' is: hola\n",
            "Enter an English word (type 'exit' to quit): wordl\n",
            "Translation not available for 'wordl'. Please try another word.\n",
            "Enter an English word (type 'exit' to quit): exit\n",
            "Exiting the dictionary. Goodbye!\n"
          ]
        }
      ]
    },
    {
      "cell_type": "markdown",
      "source": [
        "# Lab Task 04"
      ],
      "metadata": {
        "id": "h_8wOMWitspv"
      }
    },
    {
      "cell_type": "markdown",
      "source": [
        "dataset link : https://raw.githubusercontent.com/TirendazAcademy/PANDAS-TUTORIAL/main/DataSets/vgsalesGlobale.csv\n",
        "#Exercise\n",
        "Use the dataset of Game, we have explored earlier and perform following operations.\n",
        "\n",
        "* Calculate the total global sales for all games in the dataset.\n",
        "* Find the game with the highest global sales.\n",
        "* Determine the average sales for each region (NA_Sales, EU_Sales, JP_Sales, Other_Sales).\n",
        "* Find the top 5 most popular game genres based on global sales.\n",
        "* Calculate the total sales for each genre in each region and find the most popular genre in North America (NA_Sales).\n",
        "* Display last 10 rows.\n",
        "* Determine the top 3 gaming platforms with the highest global sales.\n",
        "* Calculate the market share (percentage of global sales) for each genre.\n",
        "* Calculate the correlation coefficient between NA_Sales and EU_Sales. (.corr function)"
      ],
      "metadata": {
        "id": "Qq4VH1Jkts32"
      }
    },
    {
      "cell_type": "markdown",
      "source": [
        "Some tree example"
      ],
      "metadata": {
        "id": "b9WEL8JcZFfY"
      }
    },
    {
      "cell_type": "code",
      "source": [
        "import pandas as pd\n",
        "\n",
        "url = \"https://raw.githubusercontent.com/TirendazAcademy/PANDAS-TUTORIAL/main/DataSets/vgsalesGlobale.csv\"\n",
        "df = pd.read_csv(url)\n",
        "\n",
        "print (df.head(1))\n",
        "# Calculate the total global sales for all games in rhe dataset.\n",
        "total_global_sales = df['Global_Sales'].sum()\n",
        "print(f\"\\nTotal global sales for all games: {total_global_sales} million\")\n",
        "\n",
        "# Find the game with the highest global sales\n",
        "max_global_sales_game = df.loc[df['Global_Sales'].argmax()]\n",
        "print(f\"\\nGame with the highest global sales:\\n{max_global_sales_game}\")\n",
        "\n",
        "# Determine the average sales for each region\n",
        "average_sales_by_region = df[['NA_Sales', 'EU_Sales', 'JP_Sales', 'Other_Sales']].mean()\n",
        "print(\"\\nAverage sales for each region:\")\n",
        "print(average_sales_by_region)\n",
        "\n",
        "# Find the top 5 most popular game genres based on global sales\n",
        "top_genres_global_sales = df.groupby('Genre')['Global_Sales'].sum().nlargest(5)\n",
        "print(\"\\nTop 5 most popular game genres based on global sales:\")\n",
        "print(top_genres_global_sales)\n",
        "\n",
        "# Calculate the total sales for each genre in each region\n",
        "total_sales_by_genre_region = df.groupby(['Genre'])[['NA_Sales', 'EU_Sales', 'JP_Sales', 'Other_Sales']].sum()\n",
        "print(\"\\nTotal sales for each genre in each region:\")\n",
        "print(total_sales_by_genre_region)\n",
        "\n",
        "# Find the most popular genre in North America (NA_Sales)\n",
        "most_popular_genre_na_sales = df.groupby('Genre')['NA_Sales'].sum().idxmax()\n",
        "print(\"\\nMost popular genre in North America (NA_Sales):\", most_popular_genre_na_sales)\n",
        "\n",
        "# Display last 10 rows\n",
        "print(\"\\nLast 10 rows of the dataset:\")\n",
        "print(df.tail(10))\n",
        "\n",
        "# Determine the top 3 gaming platforms with the highest global sales\n",
        "top3_platforms_global_sales = df.groupby('Platform')['Global_Sales'].sum().nlargest(3)\n",
        "print(\"\\nTop 3 gaming platforms with the highest global sales:\")\n",
        "print(top3_platforms_global_sales)\n",
        "\n",
        "# Calculate the market share (percentage of global sales) for each genre\n",
        "df['Market_Share'] = (df['Global_Sales'] / total_global_sales) * 100\n",
        "market_share_by_genre = df.groupby('Genre')['Market_Share'].mean()\n",
        "print(\"\\nMarket share for each genre:\")\n",
        "print(market_share_by_genre)\n",
        "\n",
        "# Calculate the correlation coefficient between NA_Sales and EU_Sales\n",
        "correlation_na_eu_sales = df['NA_Sales'].corr(df['EU_Sales'])\n",
        "print(\"\\nCorrelation coefficient between NA_Sales and EU_Sales:\", correlation_na_eu_sales)\n"
      ],
      "metadata": {
        "id": "b6DErXGMFbVW",
        "outputId": "620c604a-abb8-4de8-d35b-82960d266968",
        "colab": {
          "base_uri": "https://localhost:8080/"
        }
      },
      "execution_count": 32,
      "outputs": [
        {
          "output_type": "stream",
          "name": "stdout",
          "text": [
            "   Rank        Name Platform    Year   Genre Publisher  NA_Sales  EU_Sales  \\\n",
            "0     1  Wii Sports      Wii  2006.0  Sports  Nintendo     41.49     29.02   \n",
            "\n",
            "   JP_Sales  Other_Sales  Global_Sales  \n",
            "0      3.77         8.46         82.74  \n",
            "\n",
            "Total global sales for all games: 8920.44 million\n",
            "\n",
            "Game with the highest global sales:\n",
            "Rank                     1\n",
            "Name            Wii Sports\n",
            "Platform               Wii\n",
            "Year                2006.0\n",
            "Genre               Sports\n",
            "Publisher         Nintendo\n",
            "NA_Sales             41.49\n",
            "EU_Sales             29.02\n",
            "JP_Sales              3.77\n",
            "Other_Sales           8.46\n",
            "Global_Sales         82.74\n",
            "Name: 0, dtype: object\n",
            "\n",
            "Average sales for each region:\n",
            "NA_Sales       0.264667\n",
            "EU_Sales       0.146652\n",
            "JP_Sales       0.077782\n",
            "Other_Sales    0.048063\n",
            "dtype: float64\n",
            "\n",
            "Top 5 most popular game genres based on global sales:\n",
            "Genre\n",
            "Action          1751.18\n",
            "Sports          1330.93\n",
            "Shooter         1037.37\n",
            "Role-Playing     927.37\n",
            "Platform         831.37\n",
            "Name: Global_Sales, dtype: float64\n",
            "\n",
            "Total sales for each genre in each region:\n",
            "              NA_Sales  EU_Sales  JP_Sales  Other_Sales\n",
            "Genre                                                  \n",
            "Action          877.83    525.00    159.95       187.38\n",
            "Adventure       105.80     64.13     52.07        16.81\n",
            "Fighting        223.59    101.32     87.35        36.68\n",
            "Misc            410.24    215.98    107.76        75.32\n",
            "Platform        447.05    201.63    130.77        51.59\n",
            "Puzzle          123.78     50.78     57.31        12.55\n",
            "Racing          359.42    238.39     56.69        77.27\n",
            "Role-Playing    327.28    188.06    352.31        59.61\n",
            "Shooter         582.60    313.27     38.28       102.69\n",
            "Simulation      183.31    113.38     63.70        31.52\n",
            "Sports          683.35    376.85    135.37       134.97\n",
            "Strategy         68.70     45.34     49.46        11.36\n",
            "\n",
            "Most popular genre in North America (NA_Sales): Action\n",
            "\n",
            "Last 10 rows of the dataset:\n",
            "        Rank                                               Name Platform  \\\n",
            "16588  16591                                   Mega Brain Boost       DS   \n",
            "16589  16592  Chou Ezaru wa Akai Hana: Koi wa Tsuki ni Shiru...      PSV   \n",
            "16590  16593  Eiyuu Densetsu: Sora no Kiseki Material Collec...      PSP   \n",
            "16591  16594                                Myst IV: Revelation       PC   \n",
            "16592  16595                                           Plushees       DS   \n",
            "16593  16596                 Woody Woodpecker in Crazy Castle 5      GBA   \n",
            "16594  16597                      Men in Black II: Alien Escape       GC   \n",
            "16595  16598   SCORE International Baja 1000: The Official Game      PS2   \n",
            "16596  16599                                         Know How 2       DS   \n",
            "16597  16600                                   Spirits & Spells      GBA   \n",
            "\n",
            "         Year         Genre              Publisher  NA_Sales  EU_Sales  \\\n",
            "16588  2008.0        Puzzle  Majesco Entertainment      0.01      0.00   \n",
            "16589  2016.0        Action        dramatic create      0.00      0.00   \n",
            "16590  2007.0  Role-Playing     Falcom Corporation      0.00      0.00   \n",
            "16591  2004.0     Adventure                Ubisoft      0.01      0.00   \n",
            "16592  2008.0    Simulation              Destineer      0.01      0.00   \n",
            "16593  2002.0      Platform                  Kemco      0.01      0.00   \n",
            "16594  2003.0       Shooter             Infogrames      0.01      0.00   \n",
            "16595  2008.0        Racing             Activision      0.00      0.00   \n",
            "16596  2010.0        Puzzle               7G//AMES      0.00      0.01   \n",
            "16597  2003.0      Platform                Wanadoo      0.01      0.00   \n",
            "\n",
            "       JP_Sales  Other_Sales  Global_Sales  \n",
            "16588      0.00          0.0          0.01  \n",
            "16589      0.01          0.0          0.01  \n",
            "16590      0.01          0.0          0.01  \n",
            "16591      0.00          0.0          0.01  \n",
            "16592      0.00          0.0          0.01  \n",
            "16593      0.00          0.0          0.01  \n",
            "16594      0.00          0.0          0.01  \n",
            "16595      0.00          0.0          0.01  \n",
            "16596      0.00          0.0          0.01  \n",
            "16597      0.00          0.0          0.01  \n",
            "\n",
            "Top 3 gaming platforms with the highest global sales:\n",
            "Platform\n",
            "PS2     1255.64\n",
            "X360     979.96\n",
            "PS3      957.84\n",
            "Name: Global_Sales, dtype: float64\n",
            "\n",
            "Market share for each genre:\n",
            "Genre\n",
            "Action          0.005920\n",
            "Adventure       0.002084\n",
            "Fighting        0.005934\n",
            "Misc            0.005221\n",
            "Platform        0.010519\n",
            "Puzzle          0.004718\n",
            "Racing          0.006570\n",
            "Role-Playing    0.006987\n",
            "Shooter         0.008877\n",
            "Simulation      0.005071\n",
            "Sports          0.006360\n",
            "Strategy        0.002883\n",
            "Name: Market_Share, dtype: float64\n",
            "\n",
            "Correlation coefficient between NA_Sales and EU_Sales: 0.7677267483702631\n"
          ]
        }
      ]
    },
    {
      "cell_type": "code",
      "source": [
        "# import pandas as pd\n",
        "\n",
        "# # Create a DataFrame to represent a tree\n",
        "# data = {\n",
        "#     'node': ['A', 'B', 'C', 'D', 'E', 'F'],\n",
        "#     'parent': [None, 'A', 'A', 'B', 'B', 'C']\n",
        "# }\n",
        "# df = pd.DataFrame(data)\n",
        "\n",
        "# print(df)\n"
      ],
      "metadata": {
        "id": "re3_ijh12uCi"
      },
      "execution_count": 17,
      "outputs": []
    },
    {
      "cell_type": "code",
      "source": [
        "# pip install networkx\n"
      ],
      "metadata": {
        "id": "4eYXGm0c2yAl"
      },
      "execution_count": null,
      "outputs": []
    },
    {
      "cell_type": "code",
      "source": [
        "# import pandas as pd\n",
        "# import networkx as nx\n",
        "# import matplotlib.pyplot as plt\n",
        "\n",
        "# # Create a DataFrame representing edges in a graph\n",
        "# data = {\n",
        "#     'from': ['A', 'A', 'B', 'C', 'D'],\n",
        "#     'to': ['B', 'C', 'D', 'E', 'E']\n",
        "# }\n",
        "# edges = pd.DataFrame(data)\n",
        "\n",
        "# # Create a graph from the edges DataFrame\n",
        "# G = nx.from_pandas_edgelist(edges, 'from', 'to')\n",
        "\n",
        "# # Draw the graph\n",
        "# nx.draw(G, with_labels=True)\n",
        "# plt.show()\n",
        "\n",
        "# # Analyze the graph\n",
        "# print(\"Nodes:\", G.nodes())\n",
        "# print(\"Edges:\", G.edges())\n",
        "# print(\"Degree for each Node:\", dict(G.degree()))\n"
      ],
      "metadata": {
        "id": "QBd8dZTF224G"
      },
      "execution_count": null,
      "outputs": []
    }
  ]
}